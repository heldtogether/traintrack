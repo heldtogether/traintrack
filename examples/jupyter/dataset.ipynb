{
 "cells": [
  {
   "cell_type": "markdown",
   "id": "32ba2f63",
   "metadata": {},
   "source": [
    "# Dataset Versioning Example"
   ]
  },
  {
   "cell_type": "code",
   "execution_count": 1,
   "id": "164c904b",
   "metadata": {},
   "outputs": [],
   "source": [
    "import warnings\n",
    "warnings.filterwarnings('ignore')"
   ]
  },
  {
   "cell_type": "code",
   "execution_count": 2,
   "id": "ea4a917e",
   "metadata": {},
   "outputs": [],
   "source": [
    "import os \n",
    "os.environ['OAUTHLIB_INSECURE_TRANSPORT'] = '1'"
   ]
  },
  {
   "cell_type": "code",
   "execution_count": null,
   "id": "b984bd52",
   "metadata": {},
   "outputs": [],
   "source": [
    "from traintrack import list_datasets, Dataset\n",
    "import pandas as pd\n",
    "import semver"
   ]
  },
  {
   "cell_type": "code",
   "execution_count": 6,
   "id": "6bb80fae",
   "metadata": {},
   "outputs": [
    {
     "data": {
      "text/plain": [
       "<Datasets 2 items>"
      ]
     },
     "execution_count": 6,
     "metadata": {},
     "output_type": "execute_result"
    }
   ],
   "source": [
    "datasets = list_datasets()\n",
    "datasets"
   ]
  },
  {
   "cell_type": "code",
   "execution_count": 4,
   "id": "cc671889",
   "metadata": {},
   "outputs": [
    {
     "data": {
      "text/plain": [
       "<Dataset training_data:1.0.0>"
      ]
     },
     "execution_count": 4,
     "metadata": {},
     "output_type": "execute_result"
    }
   ],
   "source": [
    "dataset = Dataset(None, \"training_data\", \"1.0.0\", \"Raw data\")\n",
    "dataset.set_artefact(\"df\", pd.DataFrame(data={'col1': [1, 2], 'col2': [3, 4]}))\n",
    "dataset.save()"
   ]
  },
  {
   "cell_type": "code",
   "execution_count": 5,
   "metadata": {},
   "outputs": [
    {
     "data": {
      "text/plain": [
       "<Dataset training_data:1.0.0>"
      ]
     },
     "execution_count": 5,
     "metadata": {},
     "output_type": "execute_result"
    }
   ],
   "source": [
    "datasets = list_datasets()\n",
    "dataset = datasets.latest_version(\"training_data\")\n",
    "dataset"
   ]
  },
  {
   "cell_type": "code",
   "execution_count": 6,
   "metadata": {},
   "outputs": [
    {
     "data": {
      "text/html": [
       "<div>\n",
       "<style scoped>\n",
       "    .dataframe tbody tr th:only-of-type {\n",
       "        vertical-align: middle;\n",
       "    }\n",
       "\n",
       "    .dataframe tbody tr th {\n",
       "        vertical-align: top;\n",
       "    }\n",
       "\n",
       "    .dataframe thead th {\n",
       "        text-align: right;\n",
       "    }\n",
       "</style>\n",
       "<table border=\"1\" class=\"dataframe\">\n",
       "  <thead>\n",
       "    <tr style=\"text-align: right;\">\n",
       "      <th></th>\n",
       "      <th>col1</th>\n",
       "      <th>col2</th>\n",
       "    </tr>\n",
       "  </thead>\n",
       "  <tbody>\n",
       "    <tr>\n",
       "      <th>0</th>\n",
       "      <td>1</td>\n",
       "      <td>3</td>\n",
       "    </tr>\n",
       "    <tr>\n",
       "      <th>1</th>\n",
       "      <td>2</td>\n",
       "      <td>4</td>\n",
       "    </tr>\n",
       "  </tbody>\n",
       "</table>\n",
       "</div>"
      ],
      "text/plain": [
       "   col1  col2\n",
       "0     1     3\n",
       "1     2     4"
      ]
     },
     "execution_count": 6,
     "metadata": {},
     "output_type": "execute_result"
    }
   ],
   "source": [
    "df = dataset.get_artefact(\"df\")\n",
    "df"
   ]
  },
  {
   "cell_type": "code",
   "execution_count": 7,
   "metadata": {},
   "outputs": [
    {
     "data": {
      "text/plain": [
       "<Dataset training_data:1.0.1>"
      ]
     },
     "execution_count": 7,
     "metadata": {},
     "output_type": "execute_result"
    }
   ],
   "source": [
    "new_version = str(semver.VersionInfo.parse(dataset.version).bump_patch())\n",
    "new_dataset = dataset.transform(\"training_data\", \"Add a sum column\", new_version)\n",
    "new_dataset"
   ]
  },
  {
   "cell_type": "code",
   "execution_count": 8,
   "metadata": {},
   "outputs": [],
   "source": [
    "new_df = df.copy()\n",
    "new_df['sum'] = new_df.sum(axis=1)\n",
    "new_dataset.set_artefact(\"df\", new_df)"
   ]
  },
  {
   "cell_type": "code",
   "execution_count": 9,
   "id": "89b91090",
   "metadata": {},
   "outputs": [
    {
     "data": {
      "text/plain": [
       "{'df':    col1  col2  sum\n",
       " 0     1     3    4\n",
       " 1     2     4    6}"
      ]
     },
     "execution_count": 9,
     "metadata": {},
     "output_type": "execute_result"
    }
   ],
   "source": [
    "new_dataset.artefacts"
   ]
  },
  {
   "cell_type": "code",
   "execution_count": 10,
   "metadata": {},
   "outputs": [
    {
     "data": {
      "text/plain": [
       "<Dataset training_data:1.0.1>"
      ]
     },
     "execution_count": 10,
     "metadata": {},
     "output_type": "execute_result"
    }
   ],
   "source": [
    "new_dataset.save()"
   ]
  }
 ],
 "metadata": {
  "jupytext": {
   "notebook_metadata_filter": "jupytext_format_version"
  },
  "kernelspec": {
   "display_name": "Python (traintrack-sdk)",
   "language": "python",
   "name": "traintrack-sdk"
  },
  "language_info": {
   "codemirror_mode": {
    "name": "ipython",
    "version": 3
   },
   "file_extension": ".py",
   "mimetype": "text/x-python",
   "name": "python",
   "nbconvert_exporter": "python",
   "pygments_lexer": "ipython3",
   "version": "3.9.6"
  }
 },
 "nbformat": 4,
 "nbformat_minor": 5
}
