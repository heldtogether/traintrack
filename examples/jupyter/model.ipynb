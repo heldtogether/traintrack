{
 "cells": [
  {
   "cell_type": "markdown",
   "id": "975ae245",
   "metadata": {},
   "source": [
    "# Model Training Example"
   ]
  },
  {
   "cell_type": "code",
   "execution_count": 1,
   "id": "fc4f63b4",
   "metadata": {},
   "outputs": [],
   "source": [
    "import warnings\n",
    "warnings.filterwarnings('ignore')"
   ]
  },
  {
   "cell_type": "code",
   "execution_count": 2,
   "id": "b335d4d1",
   "metadata": {},
   "outputs": [],
   "source": [
    "from traintrack.datasets import Dataset\n",
    "from traintrack.model import Model, list_models\n",
    "import pandas as pd"
   ]
  },
  {
   "cell_type": "code",
   "execution_count": 3,
   "id": "433f25df",
   "metadata": {},
   "outputs": [
    {
     "data": {
      "text/plain": [
       "<Dataset training_data:1.0.0>"
      ]
     },
     "execution_count": 3,
     "metadata": {},
     "output_type": "execute_result"
    }
   ],
   "source": [
    "from sklearn.model_selection import train_test_split\n",
    "data = {\n",
    "    \"Bedrooms\": [2, 3, 3, 4, 2, 4, 3, 5, 2, 4],\n",
    "    \"Bathrooms\": [1, 2, 1, 3, 1, 2, 2, 3, 1, 2],\n",
    "    \"Sqft\": [900, 1500, 1200, 2000, 950, 1850, 1400, 2500, 1000, 2100],\n",
    "    \"Age\": [30, 15, 20, 5, 40, 10, 12, 4, 35, 8],  # years\n",
    "    \"Price\": [200_000, 340_000, 275_000, 500_000, 210_000, 480_000, 320_000, 600_000, 205_000, 520_000],\n",
    "}\n",
    "\n",
    "df = pd.DataFrame(data)\n",
    "\n",
    "X = df[[\"Bedrooms\", \"Bathrooms\", \"Sqft\", \"Age\"]]\n",
    "y = df[[\"Price\"]]\n",
    "X_train, X_test, y_train, y_test = train_test_split(X, y, test_size=0.2, random_state=42)\n",
    "\n",
    "dataset = Dataset(None, \"training_data\", \"1.0.0\", \"Raw data\")\n",
    "dataset.set_artefact(\"input_features_train\", X_train)\n",
    "dataset.set_artefact(\"output_train\", y_train)\n",
    "dataset.set_artefact(\"input_features_test\", X_test)\n",
    "dataset.set_artefact(\"output_test\", y_test)\n",
    "dataset"
   ]
  },
  {
   "cell_type": "code",
   "execution_count": 4,
   "id": "d71b1b55",
   "metadata": {},
   "outputs": [],
   "source": [
    "def setup_model(dataset, config):\n",
    "    from sklearn.ensemble import RandomForestClassifier\n",
    "    return RandomForestClassifier(n_estimators=config['n_estimators'])\n",
    "\n",
    "def train_model(model_obj, dataset):\n",
    "    X, y = dataset.artefacts[\"input_features_train\"], dataset.artefacts[\"output_train\"]\n",
    "    model_obj.fit(X, y)\n",
    "    return model_obj\n",
    "\n",
    "def eval_model(model_obj, dataset):\n",
    "    from sklearn.metrics import mean_absolute_error, mean_squared_error, root_mean_squared_error, r2_score\n",
    "    X = dataset.artefacts[\"input_features_test\"]\n",
    "    y_true = dataset.artefacts[\"output_test\"]\n",
    "    y_pred = model_obj.predict(X)\n",
    "    # print(\"True values:\", y_true)\n",
    "    # print(\"Predicted values:\", y_pred)\n",
    "    mae = mean_absolute_error(y_true, y_pred)\n",
    "    mse = mean_squared_error(y_true, y_pred)\n",
    "    rmse = root_mean_squared_error(y_true, y_pred)\n",
    "    r2 = r2_score(y_true, y_pred)\n",
    "    return {\n",
    "        \"mae\": mae,\n",
    "        \"mse\": mse,\n",
    "        \"rmse\": rmse,\n",
    "        \"r2\": r2,\n",
    "    }\n"
   ]
  },
  {
   "cell_type": "code",
   "execution_count": 5,
   "id": "5a049fe1",
   "metadata": {},
   "outputs": [],
   "source": [
    "model = Model(None, \"house_prices\", \"0.0.1\", \"initial model\", dataset=dataset, config={'n_estimators': 100})\n",
    "\n",
    "model.setup(setup_model)"
   ]
  },
  {
   "cell_type": "code",
   "execution_count": 6,
   "id": "c94f0367",
   "metadata": {},
   "outputs": [],
   "source": [
    "model.train(train_model)"
   ]
  },
  {
   "cell_type": "code",
   "execution_count": 7,
   "id": "098ee17d",
   "metadata": {},
   "outputs": [
    {
     "data": {
      "text/plain": [
       "{'mae': 12500.0,\n",
       " 'mse': 212500000.0,\n",
       " 'rmse': 14577.379737113251,\n",
       " 'r2': 0.953360768175583}"
      ]
     },
     "execution_count": 7,
     "metadata": {},
     "output_type": "execute_result"
    }
   ],
   "source": [
    "model.eval(eval_model)\n",
    "model.evaluation"
   ]
  },
  {
   "cell_type": "code",
   "execution_count": 8,
   "id": "3307f949",
   "metadata": {},
   "outputs": [
    {
     "data": {
      "text/plain": [
       "<Dataset training_data:1.0.0>"
      ]
     },
     "execution_count": 8,
     "metadata": {},
     "output_type": "execute_result"
    }
   ],
   "source": [
    "model.dataset"
   ]
  },
  {
   "cell_type": "code",
   "execution_count": 9,
   "id": "d1508c38",
   "metadata": {},
   "outputs": [],
   "source": [
    "def pretty_print_dict(d, indent=\"\"):\n",
    "    new_indent = indent + \"\\t\"\n",
    "    for key, value in d.items():\n",
    "        print(f\"{indent}{key}:\")\n",
    "        if isinstance(value, str) and '\\n' in value:\n",
    "            lines = value.rstrip().split('\\n')\n",
    "            for line in lines:\n",
    "                print(f\"{new_indent}{line}\")\n",
    "        elif isinstance(value, dict):\n",
    "            pretty_print_dict(value, new_indent)\n",
    "        else:\n",
    "            print(f\"{new_indent}{value}\")\n",
    "        print() "
   ]
  },
  {
   "cell_type": "code",
   "execution_count": 10,
   "id": "b162b459",
   "metadata": {},
   "outputs": [
    {
     "name": "stdout",
     "output_type": "stream",
     "text": [
      "## Config\n",
      "n_estimators:\n",
      "\t100\n",
      "\n",
      "## Model\n",
      "RandomForestClassifier()\n",
      "\n",
      "## Trained Model\n",
      "RandomForestClassifier()\n",
      "\n",
      "## Metadata\n",
      "setup_fn_source:\n",
      "\tdef setup_model(dataset, config):\n",
      "\t    from sklearn.ensemble import RandomForestClassifier\n",
      "\t    return RandomForestClassifier(n_estimators=config['n_estimators'])\n",
      "\n",
      "model_class:\n",
      "\tRandomForestClassifier\n",
      "\n",
      "init_params:\n",
      "\tbootstrap:\n",
      "\t\tTrue\n",
      "\n",
      "\tccp_alpha:\n",
      "\t\t0.0\n",
      "\n",
      "\tclass_weight:\n",
      "\t\tNone\n",
      "\n",
      "\tcriterion:\n",
      "\t\tgini\n",
      "\n",
      "\tmax_depth:\n",
      "\t\tNone\n",
      "\n",
      "\tmax_features:\n",
      "\t\tsqrt\n",
      "\n",
      "\tmax_leaf_nodes:\n",
      "\t\tNone\n",
      "\n",
      "\tmax_samples:\n",
      "\t\tNone\n",
      "\n",
      "\tmin_impurity_decrease:\n",
      "\t\t0.0\n",
      "\n",
      "\tmin_samples_leaf:\n",
      "\t\t1\n",
      "\n",
      "\tmin_samples_split:\n",
      "\t\t2\n",
      "\n",
      "\tmin_weight_fraction_leaf:\n",
      "\t\t0.0\n",
      "\n",
      "\tmonotonic_cst:\n",
      "\t\tNone\n",
      "\n",
      "\tn_estimators:\n",
      "\t\t100\n",
      "\n",
      "\tn_jobs:\n",
      "\t\tNone\n",
      "\n",
      "\toob_score:\n",
      "\t\tFalse\n",
      "\n",
      "\trandom_state:\n",
      "\t\tNone\n",
      "\n",
      "\tverbose:\n",
      "\t\t0\n",
      "\n",
      "\twarm_start:\n",
      "\t\tFalse\n",
      "\n",
      "\n",
      "train_fn_source:\n",
      "\tdef train_model(model_obj, dataset):\n",
      "\t    X, y = dataset.artefacts[\"input_features_train\"], dataset.artefacts[\"output_train\"]\n",
      "\t    model_obj.fit(X, y)\n",
      "\t    return model_obj\n",
      "\n",
      "eval_fn_source:\n",
      "\tdef eval_model(model_obj, dataset):\n",
      "\t    from sklearn.metrics import mean_absolute_error, mean_squared_error, root_mean_squared_error, r2_score\n",
      "\t    X = dataset.artefacts[\"input_features_test\"]\n",
      "\t    y_true = dataset.artefacts[\"output_test\"]\n",
      "\t    y_pred = model_obj.predict(X)\n",
      "\t    # print(\"True values:\", y_true)\n",
      "\t    # print(\"Predicted values:\", y_pred)\n",
      "\t    mae = mean_absolute_error(y_true, y_pred)\n",
      "\t    mse = mean_squared_error(y_true, y_pred)\n",
      "\t    rmse = root_mean_squared_error(y_true, y_pred)\n",
      "\t    r2 = r2_score(y_true, y_pred)\n",
      "\t    return {\n",
      "\t        \"mae\": mae,\n",
      "\t        \"mse\": mse,\n",
      "\t        \"rmse\": rmse,\n",
      "\t        \"r2\": r2,\n",
      "\t    }\n",
      "\n",
      "## Environment\n",
      "runtime:\n",
      "\tCPython\n",
      "\n",
      "runtime_version:\n",
      "\t3.9.6 (default, Mar 12 2025, 20:22:46) \n",
      "\t[Clang 17.0.0 (clang-1700.0.13.3)]\n",
      "\n",
      "package_manager:\n",
      "\tpip\n",
      "\n",
      "dependencies:\n",
      "\tappnope==0.1.4\n",
      "\tasttokens==3.0.0\n",
      "\tattrs==25.3.0\n",
      "\tcertifi==2025.6.15\n",
      "\tcharset-normalizer==3.4.2\n",
      "\tclick==8.1.8\n",
      "\tcomm==0.2.2\n",
      "\tdebugpy==1.8.14\n",
      "\tdecorator==5.2.1\n",
      "\texceptiongroup==1.3.0\n",
      "\texecuting==2.2.0\n",
      "\tfastjsonschema==2.21.1\n",
      "\tidna==3.10\n",
      "\timportlib_metadata==8.7.0\n",
      "\tiniconfig==2.1.0\n",
      "\tipykernel==6.29.5\n",
      "\tipython==8.18.1\n",
      "\tjedi==0.19.2\n",
      "\tjoblib==1.5.1\n",
      "\tjsonschema==4.24.0\n",
      "\tjsonschema-specifications==2025.4.1\n",
      "\tjupyter_client==8.6.3\n",
      "\tjupyter_core==5.8.1\n",
      "\tjupytext==1.17.2\n",
      "\tkernel-driver==0.0.7\n",
      "\tmarkdown-it-py==3.0.0\n",
      "\tmatplotlib-inline==0.1.7\n",
      "\tmdit-py-plugins==0.4.2\n",
      "\tmdurl==0.1.2\n",
      "\tnbformat==5.10.4\n",
      "\tnbterm==0.0.13\n",
      "\tnest-asyncio==1.6.0\n",
      "\tnumpy==2.0.2\n",
      "\tpackaging==25.0\n",
      "\tpandas==2.3.0\n",
      "\tparso==0.8.4\n",
      "\tpexpect==4.9.0\n",
      "\tplatformdirs==4.3.8\n",
      "\tpluggy==1.6.0\n",
      "\tprompt_toolkit==3.0.51\n",
      "\tpsutil==7.0.0\n",
      "\tptyprocess==0.7.0\n",
      "\tpure_eval==0.2.3\n",
      "\tPygments==2.19.1\n",
      "\tpytest==8.4.1\n",
      "\tpython-dateutil==2.9.0.post0\n",
      "\tpytz==2025.2\n",
      "\tPyYAML==6.0.2\n",
      "\tpyzmq==27.0.0\n",
      "\treferencing==0.36.2\n",
      "\trequests==2.32.4\n",
      "\trich==14.0.0\n",
      "\trpds-py==0.25.1\n",
      "\tscikit-learn==1.6.1\n",
      "\tscipy==1.13.1\n",
      "\tsemver==3.0.4\n",
      "\tshellingham==1.5.4\n",
      "\tsix==1.17.0\n",
      "\tstack-data==0.6.3\n",
      "\tthreadpoolctl==3.6.0\n",
      "\ttomli==2.2.1\n",
      "\ttornado==6.5.1\n",
      "\t-e git+ssh://git@github.com/heldtogether/traintrack.git@2b5a68a48d067506a9996df08052d59d4db20517#egg=traintrack_sdk&subdirectory=python-sdk\n",
      "\ttraitlets==5.14.3\n",
      "\ttyper==0.16.0\n",
      "\ttyping_extensions==4.14.0\n",
      "\ttzdata==2025.2\n",
      "\turllib3==2.5.0\n",
      "\twcwidth==0.2.13\n",
      "\tzipp==3.23.0\n",
      "\n"
     ]
    }
   ],
   "source": [
    "print(\"## Config\")\n",
    "pretty_print_dict(model.config)\n",
    "\n",
    "print(\"## Model\")\n",
    "print(model.model_obj)\n",
    "print() \n",
    "\n",
    "print(\"## Trained Model\")\n",
    "print(model.trained_model)\n",
    "print() \n",
    "\n",
    "print(\"## Metadata\")\n",
    "pretty_print_dict(model.metadata)\n",
    "\n",
    "print(\"## Environment\")\n",
    "pretty_print_dict(model.environment)"
   ]
  },
  {
   "cell_type": "code",
   "execution_count": 11,
   "id": "58045098",
   "metadata": {},
   "outputs": [
    {
     "data": {
      "text/plain": [
       "<traintrack.model.Model at 0x11273a6d0>"
      ]
     },
     "execution_count": 11,
     "metadata": {},
     "output_type": "execute_result"
    }
   ],
   "source": [
    "model.save()\n",
    "model"
   ]
  },
  {
   "cell_type": "code",
   "execution_count": 12,
   "id": "f8dd07f8",
   "metadata": {},
   "outputs": [
    {
     "data": {
      "text/plain": [
       "<Models 2 items>"
      ]
     },
     "execution_count": 12,
     "metadata": {},
     "output_type": "execute_result"
    }
   ],
   "source": [
    "models = list_models()\n",
    "models"
   ]
  },
  {
   "cell_type": "code",
   "execution_count": 13,
   "id": "494598a5",
   "metadata": {},
   "outputs": [
    {
     "data": {
      "text/plain": [
       "<traintrack.model.Model at 0x14cf02ca0>"
      ]
     },
     "execution_count": 13,
     "metadata": {},
     "output_type": "execute_result"
    }
   ],
   "source": [
    "loaded_model = models.latest_version('house_prices')\n",
    "loaded_model"
   ]
  },
  {
   "cell_type": "code",
   "execution_count": 14,
   "id": "e90a096f",
   "metadata": {},
   "outputs": [
    {
     "data": {
      "text/plain": [
       "{'mae': 12500.0,\n",
       " 'mse': 212500000.0,\n",
       " 'rmse': 14577.379737113251,\n",
       " 'r2': 0.953360768175583}"
      ]
     },
     "execution_count": 14,
     "metadata": {},
     "output_type": "execute_result"
    }
   ],
   "source": [
    "eval_model(loaded_model.trained_model, dataset)"
   ]
  }
 ],
 "metadata": {
  "kernelspec": {
   "display_name": "Python (traintrack-sdk)",
   "language": "python",
   "name": "traintrack-sdk"
  },
  "language_info": {
   "codemirror_mode": {
    "name": "ipython",
    "version": 3
   },
   "file_extension": ".py",
   "mimetype": "text/x-python",
   "name": "python",
   "nbconvert_exporter": "python",
   "pygments_lexer": "ipython3",
   "version": "3.9.6"
  }
 },
 "nbformat": 4,
 "nbformat_minor": 5
}
